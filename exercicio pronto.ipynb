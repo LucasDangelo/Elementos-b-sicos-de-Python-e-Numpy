{
 "cells": [
  {
   "cell_type": "markdown",
   "metadata": {},
   "source": [
    "### 01 - Teste de gravidez\n",
    "Escreva uma célula com controle de fluxos que tem como premissa a existência das seguintes variáveis:\n",
    "\n",
    "- ```sexo``` como ```str``` indicando os valores '**M**' para masculino e '**F**' para feminino  \n",
    "- ```beta_hcg``` que indica a quantidade do beta-HCG no sangue em mUI/mL.\n",
    "\n",
    "A sua tarefa é escrever um código que imprima como resultado \"indivíduo do sexo masculino\" quando sexo = 'M', caso sexo = 'F', se o valor de beta-HCG for maior que 5, retorne \"Positivo\" indicando que a paciente está grávida, e retorne \"Negativo\" caso contrário.\n",
    "\n",
    "Não mexa nos valores da variável ```sexo``` nem em ```beta_hcg```, e escreva um código que funcione para quaisquer valores possíveis de ambos: ```sexo``` = '**M**' ou '**F**' e ```beta_hcg``` assumindo valores inteiros positivos."
   ]
  },
  {
   "cell_type": "code",
   "execution_count": 53,
   "metadata": {},
   "outputs": [
    {
     "name": "stdout",
     "output_type": "stream",
     "text": [
      "F\n",
      "Individuo do sexo Feminino\n",
      "4\n",
      "Negativo\n"
     ]
    }
   ],
   "source": [
    "\n",
    "sexo = 'M'\n",
    "\n",
    "beta_hcg = 0\n",
    "\n",
    "# seu código vem abaixo desta linha\n",
    "\n",
    "result1 =input(\"Digite o sexo do bebe: Validos somente [M/F]\")\n",
    "str(print (result1))\n",
    "\n",
    "\n",
    "if sexo == result1:\n",
    "    print (\"Individuo do sexo Masculino\")\n",
    "\n",
    "elif sexo != result1:\n",
    "    print (\"Individuo do sexo Feminino\")\n",
    "\n",
    "result2 =input (\"Digite o valor do teste beta_hcg:\")\n",
    "str(print(result2))\n",
    "\n",
    "if beta_hcg >= 5:\n",
    "    print(\"Positivo\")\n",
    "elif beta_hcg <= 5:\n",
    "    print(\"Negativo\")\n",
    "\n",
    "\n",
    "\n"
   ]
  },
  {
   "cell_type": "markdown",
   "metadata": {},
   "source": [
    "### 02 - Renomeando variáveis\n",
    "\n",
    "Vamos ver adiante que uma forma de renomear variáveis de um conjunto de dados é através de dicionários - o dicionário deve conter como chave o nome original, associando a cada chave um único valor (tipo *str*) que contenha o nome novo.\n",
    "\n",
    "A sua tarefa é escrever um dicionário que possa ser utilizado para traduzir as variáveis ```name``` (nome), ```age``` (idade) e ```income``` (renda). Ou seja, esse dicionário deve relacionar as chaves *name, age* e *income* às suas respectivas traduções."
   ]
  },
  {
   "cell_type": "code",
   "execution_count": 11,
   "metadata": {},
   "outputs": [
    {
     "name": "stdout",
     "output_type": "stream",
     "text": [
      "['nome', 'idade', 'renda']\n",
      "<class 'list'>\n"
     ]
    }
   ],
   "source": [
    "dic_renomeacao = dict(\n",
    "    nome = 'nome',\n",
    "    idade = 'age',\n",
    "    renda = 'income'\n",
    ")\n",
    "\n",
    "chaves = list(dic_renomeacao.keys())\n",
    "print (chaves)\n",
    "print(type(chaves))"
   ]
  },
  {
   "cell_type": "markdown",
   "metadata": {},
   "source": [
    "### 03 - É divisível?\n",
    "A sua tarefa é escrever um código que indique se um número ```N``` é divisível por um número P. Escreva um programa que faça essa verificação para quaisquer combinações de ```N``` e ```M``` e devolva uma mensagem indicativa no output."
   ]
  },
  {
   "cell_type": "code",
   "execution_count": 83,
   "metadata": {},
   "outputs": [
    {
     "name": "stdout",
     "output_type": "stream",
     "text": [
      "3\n",
      "M não é divisivel por P\n",
      "6\n",
      "N é divisivel por P\n"
     ]
    }
   ],
   "source": [
    "\n",
    "N = 42\n",
    "M = 7\n",
    "\n",
    "#Seu código\n",
    "P =int(input(\"Digite um numero:\"))\n",
    "print(P)\n",
    "\n",
    "\n",
    "if (M % P == 0):\n",
    "    print (\"M é divisivel por P\")\n",
    "elif (M % P !=0):\n",
    "    print (\"M não é divisivel por P\")\n",
    "\n",
    "P = int(input(\"Digite novamente o valor de P:\"))\n",
    "print(P)\n",
    "\n",
    "if (N % P == 0):\n",
    "    print (\"N é divisivel por P\")\n",
    "elif (N %P !=0):\n",
    "    print (\"N não é divisivel por P\")\n",
    "\n",
    "\n",
    "\n",
    "\n"
   ]
  },
  {
   "cell_type": "markdown",
   "metadata": {},
   "source": [
    "### 04 - Números primos\n",
    "> Um número **N** é primo se e somente se é divisível por 1, -1, por **N** e por -**N**.  \n",
    "\n",
    "Escreva um script que verifica se ```N``` é um número primo, verificando se ```N``` é divisível por todos os números de ```1``` a ```N-1```. Você vai precisar usar alguma ferramenta de *loop* que você aprendeu para isto. No final, devolva uma mensagem no output indicando se o número é primo ou não."
   ]
  },
  {
   "cell_type": "code",
   "execution_count": 71,
   "metadata": {},
   "outputs": [
    {
     "name": "stdout",
     "output_type": "stream",
     "text": [
      "47 não é primo\n"
     ]
    }
   ],
   "source": [
    "N = 47\n",
    "\n",
    "# seu código abaixo\n",
    "\n",
    "\n",
    "if N >= 1:\n",
    "    for i in range(1, N):\n",
    "        if N % i != 0:\n",
    "            print(N, 'é primo')\n",
    "        else:\n",
    "            print(N, 'não é primo')\n",
    "            break\n",
    "elif N == 0:\n",
    "    print(N, 'é zero')\n",
    "else:\n",
    "    print(N, 'é negativo')\n"
   ]
  },
  {
   "cell_type": "markdown",
   "metadata": {},
   "source": [
    "### 05 - Desafio\n",
    "O algorítmo do exercício anterior não é o mais eficiente. O que você pode fazer para deixá-lo mais eficiente? Ou seja, executar menos comparações, portanto consumir menos tempo.\n",
    "1. Será que precisamos correr o loop até o final sempre?\n",
    "2. Será que precisamos mesmo verificar **todos** os números?\n",
    "3. Será que precisamos ir até N-1?\n",
    "\n",
    "Essas perguntas levam ao tipo de pensamento voltado a deixar um algoritmo mais eficiente. Veja se você consegue melhorar o seu."
   ]
  },
  {
   "cell_type": "code",
   "execution_count": 55,
   "metadata": {},
   "outputs": [],
   "source": [
    "N = 98\n",
    "\n",
    "# seu código aqui\n",
    "\n"
   ]
  },
  {
   "cell_type": "markdown",
   "metadata": {},
   "source": [
    "### 06 - Peso ideal 1\n",
    "O IMC (índice de massa corpórea) é um indicador de saúde mais bem aceito que o peso. Ele é calculado como:\n",
    "\n",
    "$$ IMC = \\dfrac{peso}{altura^2}$$\n",
    "\n",
    "Segundo a OMS, valores *normais* são entre 18.5 e 24.9.\n",
    "\n",
    "Sua tarefa é encontrar o ponto médio dessa faixa."
   ]
  },
  {
   "cell_type": "code",
   "execution_count": 85,
   "metadata": {},
   "outputs": [
    {
     "name": "stdout",
     "output_type": "stream",
     "text": [
      "21.7\n"
     ]
    }
   ],
   "source": [
    "imc_ideal1= 18.5\n",
    "imc_ideal2= 24.9\n",
    "\n",
    "ponto_medio = (18.5 + 24.9) / 2\n",
    "\n",
    "print(ponto_medio)"
   ]
  },
  {
   "cell_type": "markdown",
   "metadata": {},
   "source": [
    "### 07 - Peso ideal 2\n",
    "Recebendo um valor de altura, encontre o peso '*ideal*' dessa pessoa, que fornece o IMC encontrado acima"
   ]
  },
  {
   "cell_type": "code",
   "execution_count": 89,
   "metadata": {},
   "outputs": [
    {
     "name": "stdout",
     "output_type": "stream",
     "text": [
      "62.712999999999994\n"
     ]
    }
   ],
   "source": [
    "altura = 1.70\n",
    "ponto_medio = 21.7\n",
    "\n",
    "# Seu código\n",
    "peso_ideal = (altura)**2 * ponto_medio\n",
    "print(peso_ideal)"
   ]
  },
  {
   "cell_type": "markdown",
   "metadata": {},
   "source": [
    "### 08 - Peso ideal 3\n",
    "Dada uma lista contendo as alturas de pacientes, crie uma nova lista que contenha o peso '*ideal*' (que fornece o IMC calculado em **Peso ideal 1**) desses pacientes."
   ]
  },
  {
   "cell_type": "code",
   "execution_count": 93,
   "metadata": {},
   "outputs": [
    {
     "name": "stdout",
     "output_type": "stream",
     "text": [
      "[3.8024999999999998, 4.2025, 2.8899999999999997, 2.7224999999999997]\n",
      "[80.0, 95.0, 75.0, 60.0]\n"
     ]
    }
   ],
   "source": [
    "lista_alturas = [1.95, 2.05, 1.70, 1.65]\n",
    "lista_alturas1 = [(1.95**2), (2.05**2), (1.70**2),(1.65**2)]\n",
    "\n",
    "print(lista_alturas1)\n",
    "print(lista_peso_ideal)\n",
    "\n",
    "\n",
    "\n",
    "\n",
    "# seu código\n",
    "\n",
    "\n"
   ]
  },
  {
   "cell_type": "markdown",
   "metadata": {},
   "source": [
    "### 09 - Peso ideal 4\n",
    "Dada uma lista de tuplas - cada elemento da lista é uma tupla contendo altura e peso de um paciente - crie uma nova lista com o IMC desses pacientes."
   ]
  },
  {
   "cell_type": "code",
   "execution_count": 14,
   "metadata": {},
   "outputs": [
    {
     "data": {
      "text/plain": [
       "[(27.777777777777775, 2), (27.548209366391188, 2), (19.188070502453332, 2)]"
      ]
     },
     "execution_count": 14,
     "metadata": {},
     "output_type": "execute_result"
    }
   ],
   "source": [
    "altura_peso = [(1.80, 90), (1.65, 75), (1.91, 70)]\n",
    "\n",
    "IMC = []\n",
    "\n",
    "lista_1 = altura_peso[0][:]\n",
    "lista_2 = altura_peso[1][:]\n",
    "lista_3 = altura_peso[2][:]\n",
    "\n",
    "#calculo de IMC com arrendondamento de casas decimais\n",
    "\n",
    "\n",
    "imc_lista_1 = (lista_1[1]/(lista_1[0]**2),2)\n",
    "imc_lista_2 = (lista_2[1]/(lista_2[0]**2),2)\n",
    "imc_lista_3 = (lista_3[1]/(lista_3[0]**2),2)\n",
    "\n",
    "IMC = [imc_lista_1,imc_lista_2,imc_lista_3]\n",
    "\n",
    "\n",
    "IMC"
   ]
  },
  {
   "cell_type": "markdown",
   "metadata": {},
   "source": [
    "### 10 - Peso ideal 5\n",
    "Dada uma lista de **listas** - cada elemento da lista é uma **lista** contendo altura e peso de um paciente, adicione mais um elemento à lista de cada paciente contendo o IMC do paciente. Verifique também se é 'baixo', 'normal' ou 'alto' segundo os padrões da OMS em que normal é entre 18.5 e 24.9.\n",
    "\n",
    "Reflexão: por que no problema anterior temos que criar uma nova lista, e não podemos adicionar os dados de cada indivíduo à tupla?"
   ]
  },
  {
   "cell_type": "code",
   "execution_count": 13,
   "metadata": {},
   "outputs": [
    {
     "data": {
      "text/plain": [
       "[27.78, 27.55, 19.19]"
      ]
     },
     "execution_count": 13,
     "metadata": {},
     "output_type": "execute_result"
    }
   ],
   "source": [
    "altura_peso = [[1.80, 90], [1.65, 75], [1.91, 70]]\n",
    "\n",
    "\n",
    "IMC = []\n",
    "\n",
    "lista_1 = altura_peso[0][:]\n",
    "lista_2 = altura_peso[1][:]\n",
    "lista_3 = altura_peso[2][:]\n",
    "\n",
    "#calculo de IMC com arrendondamento de casas decimais\n",
    "\n",
    "\n",
    "imc_lista_1 = round(lista_1[1]/(lista_1[0]**2),2)\n",
    "imc_lista_2 = round(lista_2[1]/(lista_2[0]**2),2)\n",
    "imc_lista_3 = round(lista_3[1]/(lista_3[0]**2),2)\n",
    "\n",
    "IMC = [imc_lista_1,imc_lista_2,imc_lista_3]\n",
    "\n",
    "\n",
    "IMC"
   ]
  }
 ],
 "metadata": {
  "kernelspec": {
   "display_name": "Python 3",
   "language": "python",
   "name": "python3"
  },
  "language_info": {
   "codemirror_mode": {
    "name": "ipython",
    "version": 3
   },
   "file_extension": ".py",
   "mimetype": "text/x-python",
   "name": "python",
   "nbconvert_exporter": "python",
   "pygments_lexer": "ipython3",
   "version": "3.10.8"
  },
  "vscode": {
   "interpreter": {
    "hash": "37083a178839ddb6837eca99e3841ef7be6dad5dc50c6d19829e2187d61ddd5d"
   }
  }
 },
 "nbformat": 4,
 "nbformat_minor": 4
}
